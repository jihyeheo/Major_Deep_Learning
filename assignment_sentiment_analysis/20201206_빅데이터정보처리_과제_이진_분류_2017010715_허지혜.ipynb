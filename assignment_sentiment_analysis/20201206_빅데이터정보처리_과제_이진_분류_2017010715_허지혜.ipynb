{
 "cells": [
  {
   "cell_type": "code",
   "execution_count": null,
   "metadata": {},
   "outputs": [],
   "source": []
  },
  {
   "cell_type": "markdown",
   "metadata": {},
   "source": [
    "### 데이터 불러오기"
   ]
  },
  {
   "cell_type": "code",
   "execution_count": 73,
   "metadata": {},
   "outputs": [],
   "source": [
    "data_file = 'C:/Users/HOME/Desktop/오빠 공부자료/archive/Amazon_Unlocked_Mobile.csv'"
   ]
  },
  {
   "cell_type": "code",
   "execution_count": 74,
   "metadata": {},
   "outputs": [
    {
     "data": {
      "text/plain": [
       "(413840, 6)"
      ]
     },
     "execution_count": 74,
     "metadata": {},
     "output_type": "execute_result"
    }
   ],
   "source": [
    "import pandas as pd\n",
    "data = pd.read_csv(data_file)\n",
    "data.shape"
   ]
  },
  {
   "cell_type": "code",
   "execution_count": 75,
   "metadata": {},
   "outputs": [
    {
     "data": {
      "text/plain": [
       "(1000, 6)"
      ]
     },
     "execution_count": 75,
     "metadata": {},
     "output_type": "execute_result"
    }
   ],
   "source": [
    "import random\n",
    "n = 413840\n",
    "s = 1000\n",
    "skip = sorted(random.sample(range(1,n),n-s))\n",
    "\n",
    "data = pd.read_csv( data_file, delimiter = \",\", skiprows = skip)\n",
    "#41만개의 데이터 중 3000개의 데이터만 뽑아서 분석을 진행 \n",
    "\n",
    "data.shape"
   ]
  },
  {
   "cell_type": "markdown",
   "metadata": {},
   "source": [
    "### 결측치 확인 및 제거"
   ]
  },
  {
   "cell_type": "code",
   "execution_count": 79,
   "metadata": {},
   "outputs": [
    {
     "data": {
      "text/plain": [
       "Product Name    0\n",
       "Brand Name      0\n",
       "Price           0\n",
       "Rating          0\n",
       "Reviews         0\n",
       "Review Votes    0\n",
       "dtype: int64"
      ]
     },
     "execution_count": 79,
     "metadata": {},
     "output_type": "execute_result"
    }
   ],
   "source": [
    "data.isnull().sum()"
   ]
  },
  {
   "cell_type": "code",
   "execution_count": 80,
   "metadata": {},
   "outputs": [],
   "source": [
    "data = data.dropna()"
   ]
  },
  {
   "cell_type": "code",
   "execution_count": 81,
   "metadata": {},
   "outputs": [
    {
     "data": {
      "text/plain": [
       "(798, 6)"
      ]
     },
     "execution_count": 81,
     "metadata": {},
     "output_type": "execute_result"
    }
   ],
   "source": [
    "data.shape"
   ]
  },
  {
   "cell_type": "markdown",
   "metadata": {},
   "source": [
    "### 필요없는 열 삭제"
   ]
  },
  {
   "cell_type": "code",
   "execution_count": 82,
   "metadata": {},
   "outputs": [
    {
     "data": {
      "text/plain": [
       "Index(['Product Name', 'Brand Name', 'Price', 'Rating', 'Reviews',\n",
       "       'Review Votes'],\n",
       "      dtype='object')"
      ]
     },
     "execution_count": 82,
     "metadata": {},
     "output_type": "execute_result"
    }
   ],
   "source": [
    "data.columns"
   ]
  },
  {
   "cell_type": "code",
   "execution_count": 64,
   "metadata": {},
   "outputs": [
    {
     "data": {
      "text/html": [
       "<div>\n",
       "<style scoped>\n",
       "    .dataframe tbody tr th:only-of-type {\n",
       "        vertical-align: middle;\n",
       "    }\n",
       "\n",
       "    .dataframe tbody tr th {\n",
       "        vertical-align: top;\n",
       "    }\n",
       "\n",
       "    .dataframe thead th {\n",
       "        text-align: right;\n",
       "    }\n",
       "</style>\n",
       "<table border=\"1\" class=\"dataframe\">\n",
       "  <thead>\n",
       "    <tr style=\"text-align: right;\">\n",
       "      <th></th>\n",
       "      <th>Rating</th>\n",
       "      <th>Reviews</th>\n",
       "    </tr>\n",
       "  </thead>\n",
       "  <tbody>\n",
       "    <tr>\n",
       "      <th>0</th>\n",
       "      <td>5</td>\n",
       "      <td>Excelente</td>\n",
       "    </tr>\n",
       "    <tr>\n",
       "      <th>3</th>\n",
       "      <td>1</td>\n",
       "      <td>worst phone ever, gets hot while playing games...</td>\n",
       "    </tr>\n",
       "    <tr>\n",
       "      <th>4</th>\n",
       "      <td>5</td>\n",
       "      <td>good</td>\n",
       "    </tr>\n",
       "    <tr>\n",
       "      <th>5</th>\n",
       "      <td>5</td>\n",
       "      <td>Wow this phone I recomend!!! Excellent</td>\n",
       "    </tr>\n",
       "    <tr>\n",
       "      <th>6</th>\n",
       "      <td>5</td>\n",
       "      <td>Excellent</td>\n",
       "    </tr>\n",
       "    <tr>\n",
       "      <th>...</th>\n",
       "      <td>...</td>\n",
       "      <td>...</td>\n",
       "    </tr>\n",
       "    <tr>\n",
       "      <th>995</th>\n",
       "      <td>5</td>\n",
       "      <td>That is a great Android cellphone I ever seen....</td>\n",
       "    </tr>\n",
       "    <tr>\n",
       "      <th>996</th>\n",
       "      <td>5</td>\n",
       "      <td>everything was good with this purchase</td>\n",
       "    </tr>\n",
       "    <tr>\n",
       "      <th>997</th>\n",
       "      <td>1</td>\n",
       "      <td>cause it didn;t work i want to know how i can ...</td>\n",
       "    </tr>\n",
       "    <tr>\n",
       "      <th>998</th>\n",
       "      <td>5</td>\n",
       "      <td>This is a good all-around phone is very sturdy...</td>\n",
       "    </tr>\n",
       "    <tr>\n",
       "      <th>999</th>\n",
       "      <td>4</td>\n",
       "      <td>Only downside is that apparently Verizon no lo...</td>\n",
       "    </tr>\n",
       "  </tbody>\n",
       "</table>\n",
       "<p>802 rows × 2 columns</p>\n",
       "</div>"
      ],
      "text/plain": [
       "     Rating                                            Reviews\n",
       "0         5                                          Excelente\n",
       "3         1  worst phone ever, gets hot while playing games...\n",
       "4         5                                               good\n",
       "5         5             Wow this phone I recomend!!! Excellent\n",
       "6         5                                          Excellent\n",
       "..      ...                                                ...\n",
       "995       5  That is a great Android cellphone I ever seen....\n",
       "996       5             everything was good with this purchase\n",
       "997       1  cause it didn;t work i want to know how i can ...\n",
       "998       5  This is a good all-around phone is very sturdy...\n",
       "999       4  Only downside is that apparently Verizon no lo...\n",
       "\n",
       "[802 rows x 2 columns]"
      ]
     },
     "execution_count": 64,
     "metadata": {},
     "output_type": "execute_result"
    }
   ],
   "source": [
    "del data['Product Name']\n",
    "del data['Brand Name']\n",
    "del data['Price']\n",
    "del data['Review Votes']\n",
    "\n",
    "data"
   ]
  },
  {
   "cell_type": "markdown",
   "metadata": {},
   "source": [
    "### 라벨값 바꾸기 1) 이진 분류"
   ]
  },
  {
   "cell_type": "code",
   "execution_count": 66,
   "metadata": {},
   "outputs": [
    {
     "data": {
      "text/plain": [
       "array([5, 1, 2, 3, 4], dtype=int64)"
      ]
     },
     "execution_count": 66,
     "metadata": {},
     "output_type": "execute_result"
    }
   ],
   "source": [
    "data['Rating'].unique()"
   ]
  },
  {
   "cell_type": "code",
   "execution_count": 67,
   "metadata": {},
   "outputs": [
    {
     "data": {
      "text/plain": [
       "{1: 0, 2: 0, 3: 0, 4: 1, 5: 1}"
      ]
     },
     "execution_count": 67,
     "metadata": {},
     "output_type": "execute_result"
    }
   ],
   "source": [
    "Rating = {1:0, 2:0, 3:0, 4:1, 5:1} # 별로다 - 0 , 괜찮다 - 1\n",
    "Rating"
   ]
  },
  {
   "cell_type": "code",
   "execution_count": 68,
   "metadata": {},
   "outputs": [],
   "source": [
    "data['Rating'] = data['Rating'].apply(lambda x : Rating.get(x,x))"
   ]
  },
  {
   "cell_type": "code",
   "execution_count": 69,
   "metadata": {},
   "outputs": [
    {
     "data": {
      "text/plain": [
       "array([1, 0], dtype=int64)"
      ]
     },
     "execution_count": 69,
     "metadata": {},
     "output_type": "execute_result"
    }
   ],
   "source": [
    "data['Rating'].unique() # 잘 바뀐 모습 확인 "
   ]
  },
  {
   "cell_type": "code",
   "execution_count": 70,
   "metadata": {},
   "outputs": [
    {
     "data": {
      "text/html": [
       "<div>\n",
       "<style scoped>\n",
       "    .dataframe tbody tr th:only-of-type {\n",
       "        vertical-align: middle;\n",
       "    }\n",
       "\n",
       "    .dataframe tbody tr th {\n",
       "        vertical-align: top;\n",
       "    }\n",
       "\n",
       "    .dataframe thead th {\n",
       "        text-align: right;\n",
       "    }\n",
       "</style>\n",
       "<table border=\"1\" class=\"dataframe\">\n",
       "  <thead>\n",
       "    <tr style=\"text-align: right;\">\n",
       "      <th></th>\n",
       "      <th>Rating</th>\n",
       "      <th>Reviews</th>\n",
       "    </tr>\n",
       "  </thead>\n",
       "  <tbody>\n",
       "    <tr>\n",
       "      <th>0</th>\n",
       "      <td>1</td>\n",
       "      <td>Excelente</td>\n",
       "    </tr>\n",
       "    <tr>\n",
       "      <th>3</th>\n",
       "      <td>0</td>\n",
       "      <td>worst phone ever, gets hot while playing games...</td>\n",
       "    </tr>\n",
       "    <tr>\n",
       "      <th>4</th>\n",
       "      <td>1</td>\n",
       "      <td>good</td>\n",
       "    </tr>\n",
       "    <tr>\n",
       "      <th>5</th>\n",
       "      <td>1</td>\n",
       "      <td>Wow this phone I recomend!!! Excellent</td>\n",
       "    </tr>\n",
       "    <tr>\n",
       "      <th>6</th>\n",
       "      <td>1</td>\n",
       "      <td>Excellent</td>\n",
       "    </tr>\n",
       "    <tr>\n",
       "      <th>...</th>\n",
       "      <td>...</td>\n",
       "      <td>...</td>\n",
       "    </tr>\n",
       "    <tr>\n",
       "      <th>995</th>\n",
       "      <td>1</td>\n",
       "      <td>That is a great Android cellphone I ever seen....</td>\n",
       "    </tr>\n",
       "    <tr>\n",
       "      <th>996</th>\n",
       "      <td>1</td>\n",
       "      <td>everything was good with this purchase</td>\n",
       "    </tr>\n",
       "    <tr>\n",
       "      <th>997</th>\n",
       "      <td>0</td>\n",
       "      <td>cause it didn;t work i want to know how i can ...</td>\n",
       "    </tr>\n",
       "    <tr>\n",
       "      <th>998</th>\n",
       "      <td>1</td>\n",
       "      <td>This is a good all-around phone is very sturdy...</td>\n",
       "    </tr>\n",
       "    <tr>\n",
       "      <th>999</th>\n",
       "      <td>1</td>\n",
       "      <td>Only downside is that apparently Verizon no lo...</td>\n",
       "    </tr>\n",
       "  </tbody>\n",
       "</table>\n",
       "<p>802 rows × 2 columns</p>\n",
       "</div>"
      ],
      "text/plain": [
       "     Rating                                            Reviews\n",
       "0         1                                          Excelente\n",
       "3         0  worst phone ever, gets hot while playing games...\n",
       "4         1                                               good\n",
       "5         1             Wow this phone I recomend!!! Excellent\n",
       "6         1                                          Excellent\n",
       "..      ...                                                ...\n",
       "995       1  That is a great Android cellphone I ever seen....\n",
       "996       1             everything was good with this purchase\n",
       "997       0  cause it didn;t work i want to know how i can ...\n",
       "998       1  This is a good all-around phone is very sturdy...\n",
       "999       1  Only downside is that apparently Verizon no lo...\n",
       "\n",
       "[802 rows x 2 columns]"
      ]
     },
     "execution_count": 70,
     "metadata": {},
     "output_type": "execute_result"
    }
   ],
   "source": [
    "data"
   ]
  },
  {
   "cell_type": "code",
   "execution_count": 71,
   "metadata": {},
   "outputs": [
    {
     "data": {
      "text/plain": [
       "0      1\n",
       "3      0\n",
       "4      1\n",
       "5      1\n",
       "6      1\n",
       "      ..\n",
       "995    1\n",
       "996    1\n",
       "997    0\n",
       "998    1\n",
       "999    1\n",
       "Name: Rating, Length: 802, dtype: int32"
      ]
     },
     "execution_count": 71,
     "metadata": {},
     "output_type": "execute_result"
    }
   ],
   "source": [
    "data['Rating'].astype('int32')"
   ]
  },
  {
   "cell_type": "markdown",
   "metadata": {},
   "source": [
    "### LSTM"
   ]
  },
  {
   "cell_type": "code",
   "execution_count": 72,
   "metadata": {},
   "outputs": [
    {
     "name": "stdout",
     "output_type": "stream",
     "text": [
      "Model: \"sequential_10\"\n",
      "_________________________________________________________________\n",
      "Layer (type)                 Output Shape              Param #   \n",
      "=================================================================\n",
      "embedding_8 (Embedding)      (None, 2592, 8)           30656     \n",
      "_________________________________________________________________\n",
      "lstm_6 (LSTM)                (None, 6)                 360       \n",
      "_________________________________________________________________\n",
      "dense_9 (Dense)              (None, 1)                 7         \n",
      "=================================================================\n",
      "Total params: 31,023\n",
      "Trainable params: 31,023\n",
      "Non-trainable params: 0\n",
      "_________________________________________________________________\n",
      "Epoch 1/10\n",
      "18/18 [==============================] - 31s 2s/step - loss: 0.6866 - accuracy: 0.6791 - val_loss: 0.6794 - val_accuracy: 0.6971\n",
      "Epoch 2/10\n",
      "18/18 [==============================] - 31s 2s/step - loss: 0.6693 - accuracy: 0.6988 - val_loss: 0.6613 - val_accuracy: 0.6971\n",
      "Epoch 3/10\n",
      "18/18 [==============================] - 30s 2s/step - loss: 0.6436 - accuracy: 0.6988 - val_loss: 0.6319 - val_accuracy: 0.6971\n",
      "Epoch 4/10\n",
      "18/18 [==============================] - 31s 2s/step - loss: 0.5999 - accuracy: 0.6988 - val_loss: 0.5838 - val_accuracy: 0.6971\n",
      "Epoch 5/10\n",
      "18/18 [==============================] - 31s 2s/step - loss: 0.5506 - accuracy: 0.6988 - val_loss: 0.5646 - val_accuracy: 0.6971\n",
      "Epoch 6/10\n",
      "18/18 [==============================] - 31s 2s/step - loss: 0.5218 - accuracy: 0.6988 - val_loss: 0.5479 - val_accuracy: 0.6971\n",
      "Epoch 7/10\n",
      "18/18 [==============================] - 31s 2s/step - loss: 0.4943 - accuracy: 0.6988 - val_loss: 0.5367 - val_accuracy: 0.6971\n",
      "Epoch 8/10\n",
      "18/18 [==============================] - 30s 2s/step - loss: 0.4661 - accuracy: 0.7148 - val_loss: 0.5258 - val_accuracy: 0.6971\n",
      "Epoch 9/10\n",
      "18/18 [==============================] - 31s 2s/step - loss: 0.4337 - accuracy: 0.7665 - val_loss: 0.5145 - val_accuracy: 0.7137\n",
      "Epoch 10/10\n",
      "18/18 [==============================] - 32s 2s/step - loss: 0.3987 - accuracy: 0.8039 - val_loss: 0.4992 - val_accuracy: 0.7220\n"
     ]
    },
    {
     "data": {
      "text/plain": [
       "<tensorflow.python.keras.callbacks.History at 0x2934ed93e08>"
      ]
     },
     "execution_count": 72,
     "metadata": {},
     "output_type": "execute_result"
    }
   ],
   "source": [
    "from tensorflow.keras.preprocessing.text import Tokenizer\n",
    "from tensorflow.keras.preprocessing.sequence import pad_sequences\n",
    "from tensorflow.keras.models import Sequential\n",
    "from tensorflow.keras.layers import Dense, Flatten, Embedding, LSTM\n",
    "from sklearn.model_selection import train_test_split\n",
    "\n",
    "import keras\n",
    "import pandas as pd\n",
    "\n",
    "#토큰화\n",
    "token = Tokenizer()\n",
    "token.fit_on_texts(data['Reviews'])\n",
    "\n",
    "seq = token.texts_to_sequences(data['Reviews'])\n",
    "# 패딩\n",
    "Maxlen = max(len(s) for s in seq)\n",
    "\n",
    "pad = pad_sequences(seq, Maxlen)\n",
    "\n",
    "x_train, x_test, y_train, y_test = train_test_split(pad, data['Rating'] , test_size = 0.3, random_state = 1)\n",
    "\n",
    "# 모형 만들기\n",
    "num_words =  len(token.index_word) + 1\n",
    "\n",
    "model = Sequential()\n",
    "model.add(Embedding(input_dim=num_words, output_dim=8, input_length = Maxlen))\n",
    "model.add(LSTM(6))\n",
    "model.add(Dense(1,activation='sigmoid'))\n",
    "model.summary()\n",
    "\n",
    "# 모델 훈련\n",
    "model.compile(optimizer='adam', loss = 'binary_crossentropy',metrics=['accuracy'])\n",
    "history = model.fit(x_train, y_train, epochs =10 , validation_data = (x_test, y_test))\n",
    "\n",
    "history"
   ]
  },
  {
   "cell_type": "code",
   "execution_count": 20,
   "metadata": {},
   "outputs": [
    {
     "name": "stdout",
     "output_type": "stream",
     "text": [
      "8/8 [==============================] - 1s 67ms/step - loss: 0.4921 - accuracy: 0.7918\n",
      "Test Score 0.49205827713012695\n",
      "Test Accuracy 0.7918367385864258\n"
     ]
    }
   ],
   "source": [
    "score, acc =model.evaluate(x_test, y_test)\n",
    "print(\"Test Score\" , score)\n",
    "print(\"Test Accuracy\", acc )"
   ]
  },
  {
   "cell_type": "code",
   "execution_count": 19,
   "metadata": {},
   "outputs": [
    {
     "data": {
      "text/plain": [
       "[<matplotlib.lines.Line2D at 0x2934d43ea48>]"
      ]
     },
     "execution_count": 19,
     "metadata": {},
     "output_type": "execute_result"
    },
    {
     "data": {
      "image/png": "[encoded data removed]",
      "text/plain": [
       "<Figure size 432x288 with 1 Axes>"
      ]
     },
     "metadata": {
      "needs_background": "light"
     },
     "output_type": "display_data"
    }
   ],
   "source": [
    "import numpy as np\n",
    "import matplotlib.pyplot as plt\n",
    "y_vloss = history.history['val_loss']\n",
    "y_loss = history.history['loss']\n",
    "\n",
    "x_len = np.arange(len(y_loss))\n",
    "plt.plot(x_len, y_vloss, c='red')\n",
    "plt.plot(x_len, y_loss, c='blue')"
   ]
  },
  {
   "cell_type": "code",
   "execution_count": null,
   "metadata": {},
   "outputs": [],
   "source": []
  },
  {
   "cell_type": "code",
   "execution_count": null,
   "metadata": {},
   "outputs": [],
   "source": []
  },
  {
   "cell_type": "code",
   "execution_count": null,
   "metadata": {},
   "outputs": [],
   "source": []
  },
  {
   "cell_type": "markdown",
   "metadata": {},
   "source": [
    "### Reviews 데이터 클리닝 작업"
   ]
  },
  {
   "cell_type": "code",
   "execution_count": 22,
   "metadata": {},
   "outputs": [
    {
     "name": "stderr",
     "output_type": "stream",
     "text": [
      "[nltk_data] Downloading package stopwords to\n",
      "[nltk_data]     C:\\Users\\HOME\\AppData\\Roaming\\nltk_data...\n",
      "[nltk_data]   Package stopwords is already up-to-date!\n"
     ]
    }
   ],
   "source": [
    "import nltk\n",
    "nltk.download('stopwords')\n",
    "from bs4 import BeautifulSoup\n",
    "from nltk.corpus import stopwords\n",
    "from nltk.stem.porter import PorterStemmer\n",
    "english_stemmer=nltk.stem.SnowballStemmer('english')\n",
    "from nltk.corpus import stopwords\n",
    "import re\n",
    "def review_to_wordlist(review, remove_stopwords = True) :\n",
    "    \n",
    "    #review_text 에 알파벳 모두 넣기\n",
    "    review_text = re.sub('[^a-zA-Z]',\" \", review)\n",
    "    \n",
    "    # 알파벳 소문자로 바꾸고 분리시켜주기\n",
    "    words = review_text.lower().split()\n",
    "    \n",
    "    if remove_stopwords :\n",
    "        # english인 불용어 stops 에 넣기\n",
    "        stops = set(stopwords.words('english'))\n",
    "        # stops 에 있는 애들만 빼고 words에 넣어준다.\n",
    "        words = [w for w in words if not w in stops]\n",
    "        \n",
    "        \n",
    "    b=[]\n",
    "    stemmer = english_stemmer\n",
    "    # 전처리 된 word 중에서 어간만 빼서 b 에 넣기\n",
    "    for word in words :\n",
    "        b.append(stemmer.stem(word))\n",
    "        \n",
    "    return(b)"
   ]
  },
  {
   "cell_type": "code",
   "execution_count": 23,
   "metadata": {},
   "outputs": [],
   "source": [
    "clean_reviews = []\n",
    "for review in data['Reviews']:\n",
    "    clean_reviews.append(\" \".join(review_to_wordlist(review)))"
   ]
  },
  {
   "cell_type": "code",
   "execution_count": 24,
   "metadata": {},
   "outputs": [
    {
     "name": "stdout",
     "output_type": "stream",
     "text": [
      "815\n",
      "815\n"
     ]
    }
   ],
   "source": [
    "print(len(data['Reviews']))\n",
    "print(len(clean_reviews))"
   ]
  },
  {
   "cell_type": "code",
   "execution_count": 25,
   "metadata": {},
   "outputs": [
    {
     "data": {
      "text/plain": [
       "2    Good phone for the price, a nice screen with a...\n",
       "3                               excellent goods for me\n",
       "4    Love it. Definitely worth the great price. I h...\n",
       "Name: Reviews, dtype: object"
      ]
     },
     "execution_count": 25,
     "metadata": {},
     "output_type": "execute_result"
    }
   ],
   "source": [
    "data['Reviews'][:3]"
   ]
  },
  {
   "cell_type": "code",
   "execution_count": 26,
   "metadata": {},
   "outputs": [
    {
     "data": {
      "text/plain": [
       "['good phone price nice screen nice sound fluid interfac',\n",
       " 'excel good',\n",
       " 'love definit worth great price owe mine six month love second alcatel phone owe bought new one readi upgrad love phone price wonder']"
      ]
     },
     "execution_count": 26,
     "metadata": {},
     "output_type": "execute_result"
    }
   ],
   "source": [
    "clean_reviews[:3]"
   ]
  },
  {
   "cell_type": "code",
   "execution_count": 27,
   "metadata": {},
   "outputs": [
    {
     "data": {
      "text/html": [
       "<div>\n",
       "<style scoped>\n",
       "    .dataframe tbody tr th:only-of-type {\n",
       "        vertical-align: middle;\n",
       "    }\n",
       "\n",
       "    .dataframe tbody tr th {\n",
       "        vertical-align: top;\n",
       "    }\n",
       "\n",
       "    .dataframe thead th {\n",
       "        text-align: right;\n",
       "    }\n",
       "</style>\n",
       "<table border=\"1\" class=\"dataframe\">\n",
       "  <thead>\n",
       "    <tr style=\"text-align: right;\">\n",
       "      <th></th>\n",
       "      <th>Reviews</th>\n",
       "    </tr>\n",
       "    <tr>\n",
       "      <th>Rating</th>\n",
       "      <th></th>\n",
       "    </tr>\n",
       "  </thead>\n",
       "  <tbody>\n",
       "    <tr>\n",
       "      <th>1</th>\n",
       "      <td>good phone price nice screen nice sound fluid ...</td>\n",
       "    </tr>\n",
       "    <tr>\n",
       "      <th>1</th>\n",
       "      <td>excel good</td>\n",
       "    </tr>\n",
       "    <tr>\n",
       "      <th>1</th>\n",
       "      <td>love definit worth great price owe mine six mo...</td>\n",
       "    </tr>\n",
       "    <tr>\n",
       "      <th>1</th>\n",
       "      <td>pleasant surpris qualiti phone</td>\n",
       "    </tr>\n",
       "    <tr>\n",
       "      <th>1</th>\n",
       "      <td>great build qualiti almost stock android littl...</td>\n",
       "    </tr>\n",
       "    <tr>\n",
       "      <th>...</th>\n",
       "      <td>...</td>\n",
       "    </tr>\n",
       "    <tr>\n",
       "      <th>1</th>\n",
       "      <td>one best phone ever own</td>\n",
       "    </tr>\n",
       "    <tr>\n",
       "      <th>1</th>\n",
       "      <td>zte zmax saw zmax came day hassl straight talk...</td>\n",
       "    </tr>\n",
       "    <tr>\n",
       "      <th>1</th>\n",
       "      <td>excel</td>\n",
       "    </tr>\n",
       "    <tr>\n",
       "      <th>1</th>\n",
       "      <td>work great plug sim go cut sim mini micro easi...</td>\n",
       "    </tr>\n",
       "    <tr>\n",
       "      <th>1</th>\n",
       "      <td>downsid appar verizon longer use v cast music ...</td>\n",
       "    </tr>\n",
       "  </tbody>\n",
       "</table>\n",
       "<p>815 rows × 1 columns</p>\n",
       "</div>"
      ],
      "text/plain": [
       "                                                  Reviews\n",
       "Rating                                                   \n",
       "1       good phone price nice screen nice sound fluid ...\n",
       "1                                              excel good\n",
       "1       love definit worth great price owe mine six mo...\n",
       "1                          pleasant surpris qualiti phone\n",
       "1       great build qualiti almost stock android littl...\n",
       "...                                                   ...\n",
       "1                                 one best phone ever own\n",
       "1       zte zmax saw zmax came day hassl straight talk...\n",
       "1                                                   excel\n",
       "1       work great plug sim go cut sim mini micro easi...\n",
       "1       downsid appar verizon longer use v cast music ...\n",
       "\n",
       "[815 rows x 1 columns]"
      ]
     },
     "execution_count": 27,
     "metadata": {},
     "output_type": "execute_result"
    }
   ],
   "source": [
    "df = pd.DataFrame(clean_reviews, data['Rating'], columns = ['Reviews'])\n",
    "df"
   ]
  },
  {
   "cell_type": "code",
   "execution_count": 28,
   "metadata": {},
   "outputs": [],
   "source": [
    "df = df.reset_index()"
   ]
  },
  {
   "cell_type": "code",
   "execution_count": 29,
   "metadata": {},
   "outputs": [
    {
     "data": {
      "text/html": [
       "<div>\n",
       "<style scoped>\n",
       "    .dataframe tbody tr th:only-of-type {\n",
       "        vertical-align: middle;\n",
       "    }\n",
       "\n",
       "    .dataframe tbody tr th {\n",
       "        vertical-align: top;\n",
       "    }\n",
       "\n",
       "    .dataframe thead th {\n",
       "        text-align: right;\n",
       "    }\n",
       "</style>\n",
       "<table border=\"1\" class=\"dataframe\">\n",
       "  <thead>\n",
       "    <tr style=\"text-align: right;\">\n",
       "      <th></th>\n",
       "      <th>Rating</th>\n",
       "      <th>Reviews</th>\n",
       "    </tr>\n",
       "  </thead>\n",
       "  <tbody>\n",
       "    <tr>\n",
       "      <th>0</th>\n",
       "      <td>1</td>\n",
       "      <td>good phone price nice screen nice sound fluid ...</td>\n",
       "    </tr>\n",
       "    <tr>\n",
       "      <th>1</th>\n",
       "      <td>1</td>\n",
       "      <td>excel good</td>\n",
       "    </tr>\n",
       "    <tr>\n",
       "      <th>2</th>\n",
       "      <td>1</td>\n",
       "      <td>love definit worth great price owe mine six mo...</td>\n",
       "    </tr>\n",
       "    <tr>\n",
       "      <th>3</th>\n",
       "      <td>1</td>\n",
       "      <td>pleasant surpris qualiti phone</td>\n",
       "    </tr>\n",
       "    <tr>\n",
       "      <th>4</th>\n",
       "      <td>1</td>\n",
       "      <td>great build qualiti almost stock android littl...</td>\n",
       "    </tr>\n",
       "    <tr>\n",
       "      <th>...</th>\n",
       "      <td>...</td>\n",
       "      <td>...</td>\n",
       "    </tr>\n",
       "    <tr>\n",
       "      <th>810</th>\n",
       "      <td>1</td>\n",
       "      <td>one best phone ever own</td>\n",
       "    </tr>\n",
       "    <tr>\n",
       "      <th>811</th>\n",
       "      <td>1</td>\n",
       "      <td>zte zmax saw zmax came day hassl straight talk...</td>\n",
       "    </tr>\n",
       "    <tr>\n",
       "      <th>812</th>\n",
       "      <td>1</td>\n",
       "      <td>excel</td>\n",
       "    </tr>\n",
       "    <tr>\n",
       "      <th>813</th>\n",
       "      <td>1</td>\n",
       "      <td>work great plug sim go cut sim mini micro easi...</td>\n",
       "    </tr>\n",
       "    <tr>\n",
       "      <th>814</th>\n",
       "      <td>1</td>\n",
       "      <td>downsid appar verizon longer use v cast music ...</td>\n",
       "    </tr>\n",
       "  </tbody>\n",
       "</table>\n",
       "<p>815 rows × 2 columns</p>\n",
       "</div>"
      ],
      "text/plain": [
       "     Rating                                            Reviews\n",
       "0         1  good phone price nice screen nice sound fluid ...\n",
       "1         1                                         excel good\n",
       "2         1  love definit worth great price owe mine six mo...\n",
       "3         1                     pleasant surpris qualiti phone\n",
       "4         1  great build qualiti almost stock android littl...\n",
       "..      ...                                                ...\n",
       "810       1                            one best phone ever own\n",
       "811       1  zte zmax saw zmax came day hassl straight talk...\n",
       "812       1                                              excel\n",
       "813       1  work great plug sim go cut sim mini micro easi...\n",
       "814       1  downsid appar verizon longer use v cast music ...\n",
       "\n",
       "[815 rows x 2 columns]"
      ]
     },
     "execution_count": 29,
     "metadata": {},
     "output_type": "execute_result"
    }
   ],
   "source": [
    "df"
   ]
  },
  {
   "cell_type": "code",
   "execution_count": 30,
   "metadata": {},
   "outputs": [
    {
     "data": {
      "text/plain": [
       "0      1\n",
       "1      1\n",
       "2      1\n",
       "3      1\n",
       "4      1\n",
       "      ..\n",
       "810    1\n",
       "811    1\n",
       "812    1\n",
       "813    1\n",
       "814    1\n",
       "Name: Rating, Length: 815, dtype: int32"
      ]
     },
     "execution_count": 30,
     "metadata": {},
     "output_type": "execute_result"
    }
   ],
   "source": [
    "df['Rating'].astype('int32')"
   ]
  },
  {
   "cell_type": "code",
   "execution_count": 39,
   "metadata": {
    "scrolled": true
   },
   "outputs": [
    {
     "name": "stdout",
     "output_type": "stream",
     "text": [
      "Model: \"sequential_6\"\n",
      "_________________________________________________________________\n",
      "Layer (type)                 Output Shape              Param #   \n",
      "=================================================================\n",
      "embedding_4 (Embedding)      (None, 488, 8)            19144     \n",
      "_________________________________________________________________\n",
      "lstm_4 (LSTM)                (None, 6)                 360       \n",
      "_________________________________________________________________\n",
      "dropout_3 (Dropout)          (None, 6)                 0         \n",
      "_________________________________________________________________\n",
      "dense_4 (Dense)              (None, 1)                 7         \n",
      "=================================================================\n",
      "Total params: 19,511\n",
      "Trainable params: 19,511\n",
      "Non-trainable params: 0\n",
      "_________________________________________________________________\n",
      "Epoch 1/10\n",
      "18/18 [==============================] - 4s 238ms/step - loss: 0.6853 - accuracy: 0.5912\n",
      "Epoch 2/10\n",
      "18/18 [==============================] - 4s 244ms/step - loss: 0.6487 - accuracy: 0.6877\n",
      "Epoch 3/10\n",
      "18/18 [==============================] - 4s 225ms/step - loss: 0.6097 - accuracy: 0.6877\n",
      "Epoch 4/10\n",
      "18/18 [==============================] - 4s 212ms/step - loss: 0.5774 - accuracy: 0.6877\n",
      "Epoch 5/10\n",
      "18/18 [==============================] - 4s 228ms/step - loss: 0.5512 - accuracy: 0.6877\n",
      "Epoch 6/10\n",
      "18/18 [==============================] - 4s 201ms/step - loss: 0.5191 - accuracy: 0.7018\n",
      "Epoch 7/10\n",
      "18/18 [==============================] - 4s 222ms/step - loss: 0.4871 - accuracy: 0.7667\n",
      "Epoch 8/10\n",
      "18/18 [==============================] - 4s 201ms/step - loss: 0.4504 - accuracy: 0.8439\n",
      "Epoch 9/10\n",
      "18/18 [==============================] - 3s 194ms/step - loss: 0.4093 - accuracy: 0.8596\n",
      "Epoch 10/10\n",
      "18/18 [==============================] - 4s 204ms/step - loss: 0.3696 - accuracy: 0.8842\n",
      "8/8 [==============================] - 0s 35ms/step - loss: 0.4548 - accuracy: 0.8041\n",
      "Trst Accuracy : 0.8041\n"
     ]
    }
   ],
   "source": [
    "from tensorflow.keras.preprocessing.text import Tokenizer\n",
    "from tensorflow.keras.preprocessing.sequence import pad_sequences\n",
    "from tensorflow.keras.models import Sequential\n",
    "from tensorflow.keras.layers import Dense, Flatten, Embedding, LSTM, Dropout\n",
    "from sklearn.model_selection import train_test_split\n",
    "\n",
    "import keras\n",
    "import pandas as pd\n",
    "\n",
    "#토큰화\n",
    "token = Tokenizer()\n",
    "token.fit_on_texts(df['Reviews'])\n",
    "\n",
    "seq = token.texts_to_sequences(df['Reviews'])\n",
    "# 패딩\n",
    "Maxlen = max(len(s) for s in seq)\n",
    "\n",
    "pad = pad_sequences(seq, Maxlen)\n",
    "\n",
    "x_train, x_test, y_train, y_test = train_test_split(pad, df['Rating'] , test_size = 0.3, random_state = 1)\n",
    "\n",
    "# 모형 만들기\n",
    "num_words =  len(token.index_word) + 1\n",
    "\n",
    "model = Sequential()\n",
    "model.add(Embedding(input_dim=num_words, output_dim=8, input_length = Maxlen))\n",
    "model.add(LSTM(6))\n",
    "model.add(Dropout(0.01))\n",
    "model.add(Dense(1,activation='sigmoid'))\n",
    "model.summary()\n",
    "\n",
    "# 모델 훈련\n",
    "model.compile(optimizer='adam', loss = 'binary_crossentropy',metrics=['accuracy'])\n",
    "model.fit(x_train, y_train, epochs = 10)\n",
    "\n",
    "# 정확도 계산\n",
    "print(\"Trst Accuracy : %.4f\" % (model.evaluate(x_test, y_test)[1]))\n"
   ]
  },
  {
   "cell_type": "code",
   "execution_count": null,
   "metadata": {},
   "outputs": [],
   "source": []
  },
  {
   "cell_type": "code",
   "execution_count": null,
   "metadata": {},
   "outputs": [],
   "source": []
  },
  {
   "cell_type": "code",
   "execution_count": null,
   "metadata": {},
   "outputs": [],
   "source": []
  }
 ],
 "metadata": {
  "kernelspec": {
   "display_name": "Python 3",
   "language": "python",
   "name": "python3"
  },
  "language_info": {
   "codemirror_mode": {
    "name": "ipython",
    "version": 3
   },
   "file_extension": ".py",
   "mimetype": "text/x-python",
   "name": "python",
   "nbconvert_exporter": "python",
   "pygments_lexer": "ipython3",
   "version": "3.7.6"
  }
 },
 "nbformat": 4,
 "nbformat_minor": 4
}
